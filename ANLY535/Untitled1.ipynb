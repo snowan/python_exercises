{
 "cells": [
  {
   "cell_type": "code",
   "execution_count": 8,
   "metadata": {},
   "outputs": [
    {
     "name": "stdout",
     "output_type": "stream",
     "text": [
      "Weights :  [[ 0.13253193]\n",
      " [ 1.51466978]\n",
      " [ 1.04330707]]\n",
      "Bias :  [[-0.41491762]]\n",
      "Expected Scores :  [[ 1.]\n",
      " [ 1.]]\n",
      "Expected Scores :  [[ 1.]\n",
      " [ 1.]]\n"
     ]
    }
   ],
   "source": [
    "import tensorflow  \n",
    "  \n",
    "# Preparing training data (inputs-outputs)  \n",
    "training_inputs = tensorflow.placeholder(shape=[None, 3], dtype=tensorflow.float32)  \n",
    "training_outputs = tensorflow.placeholder(shape=[None, 1], dtype=tensorflow.float32) #Desired outputs for each input  \n",
    "  \n",
    "# Preparing neural network parameters (weights and bias) using TensorFlow Variables  \n",
    "# weights = tensorflow.Variable(initial_value=[[.3], [.1], [.8]], dtype=tensorflow.float32)  \n",
    "# bias = tensorflow.Variable(initial_value=[[1]], dtype=tensorflow.float32)  \n",
    "  \n",
    "# Preparing neural network parameters (weights and bias) using TensorFlow Variables  \n",
    "weights = tensorflow.Variable(tensorflow.truncated_normal(shape=[3, 1], dtype=tensorflow.float32)) \n",
    "\n",
    "bias = tensorflow.Variable(tensorflow.truncated_normal(shape=[1, 1], dtype=tensorflow.float32))  \n",
    " \n",
    "\n",
    "\n",
    "# Preparing inputs of the activation function  \n",
    "af_input = tensorflow.matmul(training_inputs, weights) + bias  \n",
    "  \n",
    "# Activation function of the output layer neuron  \n",
    "predictions = tensorflow.nn.sigmoid(af_input)  \n",
    "  \n",
    "# Measuring the prediction error of the network after being trained  \n",
    "prediction_error = tensorflow.reduce_sum(training_outputs - predictions)  \n",
    "  \n",
    "# Minimizing the prediction error using gradient descent optimizer  \n",
    "train_op = tensorflow.train.GradientDescentOptimizer(learning_rate=0.05).minimize(prediction_error)  \n",
    "  \n",
    "# Creating a TensorFlow Session  \n",
    "sess = tensorflow.Session()  \n",
    "  \n",
    "# Initializing the TensorFlow Variables (weights and bias)  \n",
    "sess.run(tensorflow.global_variables_initializer())  \n",
    "  \n",
    "# Training data inputs  \n",
    "training_inputs_data = [[255, 0, 0],  \n",
    "                        [248, 80, 68],  \n",
    "                        [0, 0, 255],  \n",
    "                        [67, 15, 210]]  \n",
    "  \n",
    "# Training data desired outputs  \n",
    "training_outputs_data = [[1],  \n",
    "                         [1],  \n",
    "                         [0],  \n",
    "                         [0]]  \n",
    "  \n",
    "# Training loop of the neural network  \n",
    "for step in range(10000):  \n",
    "    sess.run(fetches=[train_op], feed_dict={\n",
    "                                   training_inputs: training_inputs_data,  \n",
    "                                   training_outputs: training_outputs_data})  \n",
    "  \n",
    "print(\"Weights : \", sess.run(weights))\n",
    "print(\"Bias : \", sess.run(bias)) \n",
    "# Class scores of some testing data  \n",
    "print(\"Expected Scores : \", sess.run(fetches=predictions, feed_dict={training_inputs: [[248, 80, 68],[0, 0, 255]]}))\n",
    "print(\"Expected Scores : \", sess.run(fetches=predictions, feed_dict={training_inputs: [[255, 100, 50],[30, 50, 255]]}))\n",
    " \n",
    "# Closing the TensorFlow Session to free resources  \n",
    "sess.close()"
   ]
  },
  {
   "cell_type": "code",
   "execution_count": null,
   "metadata": {
    "collapsed": true
   },
   "outputs": [],
   "source": []
  }
 ],
 "metadata": {
  "kernelspec": {
   "display_name": "Python 3",
   "language": "python",
   "name": "python3"
  },
  "language_info": {
   "codemirror_mode": {
    "name": "ipython",
    "version": 3
   },
   "file_extension": ".py",
   "mimetype": "text/x-python",
   "name": "python",
   "nbconvert_exporter": "python",
   "pygments_lexer": "ipython3",
   "version": "3.6.1"
  }
 },
 "nbformat": 4,
 "nbformat_minor": 2
}
