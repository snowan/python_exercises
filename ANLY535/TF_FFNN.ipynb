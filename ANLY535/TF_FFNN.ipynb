{
 "cells": [
  {
   "cell_type": "code",
   "execution_count": 1,
   "metadata": {
    "collapsed": true
   },
   "outputs": [],
   "source": [
    "import tensorflow as tf"
   ]
  },
  {
   "cell_type": "code",
   "execution_count": 19,
   "metadata": {
    "collapsed": true
   },
   "outputs": [],
   "source": [
    "# Preparing training data (inputs-outputs)\n",
    "training_inputs = tf.placeholder(shape=[None, 3], dtype=tf.float32)\n",
    "# Desired outpus for each input\n",
    "training_outputs = tf.placeholder(shape=[None, 1], dtype=tf.float32)"
   ]
  },
  {
   "cell_type": "code",
   "execution_count": 20,
   "metadata": {},
   "outputs": [],
   "source": [
    "# Preparing neural network parameters (weights and bias) using TensorFlow Variables\n",
    "weights = tf.Variable(initial_value=[[.3], [.1], [.8]], dtype=tf.float32)  \n",
    "bias = tf.Variable(initial_value=[[1]], dtype=tf.float32)  \n"
   ]
  },
  {
   "cell_type": "code",
   "execution_count": 21,
   "metadata": {},
   "outputs": [],
   "source": [
    "# Preparing inputs of the activation function\n",
    "af_input = tf.matmul(training_inputs, weights) + bias"
   ]
  },
  {
   "cell_type": "code",
   "execution_count": 22,
   "metadata": {
    "collapsed": true
   },
   "outputs": [],
   "source": [
    "# Activation function of the output layer neuron  \n",
    "predictions = tf.nn.sigmoid(af_input)  "
   ]
  },
  {
   "cell_type": "code",
   "execution_count": 23,
   "metadata": {},
   "outputs": [],
   "source": [
    "# Measuring the prediction error of the network after being trained  \n",
    "prediction_error = tf.reduce_sum(training_outputs - predictions)  "
   ]
  },
  {
   "cell_type": "code",
   "execution_count": 24,
   "metadata": {
    "collapsed": true
   },
   "outputs": [],
   "source": [
    "# Minimizing the prediction error using gradient descent optimizer  \n",
    "train_op = tf.train.GradientDescentOptimizer(learning_rate=0.05).minimize(prediction_error)  \n"
   ]
  },
  {
   "cell_type": "code",
   "execution_count": 25,
   "metadata": {
    "collapsed": true
   },
   "outputs": [],
   "source": [
    "# Creating a TensorFlow Session\n",
    "sess = tf.Session()"
   ]
  },
  {
   "cell_type": "code",
   "execution_count": 26,
   "metadata": {
    "collapsed": true
   },
   "outputs": [],
   "source": [
    "# Initializing the TensorFlow Variables (weights and bias)\n",
    "sess.run(tf.global_variables_initializer())"
   ]
  },
  {
   "cell_type": "code",
   "execution_count": 27,
   "metadata": {
    "collapsed": true
   },
   "outputs": [],
   "source": [
    "# Training data inputs\n",
    "training_inputs_data = [[255, 0, 0],  \n",
    "                        [248, 80, 68],  \n",
    "                        [0, 0, 255],  \n",
    "                        [67, 15, 210]]  "
   ]
  },
  {
   "cell_type": "code",
   "execution_count": 28,
   "metadata": {
    "collapsed": true
   },
   "outputs": [],
   "source": [
    "# Training data desired outputs  \n",
    "training_outputs_data = [[1],  \n",
    "                         [1],  \n",
    "                         [0],  \n",
    "                         [0]]  "
   ]
  },
  {
   "cell_type": "code",
   "execution_count": 29,
   "metadata": {
    "collapsed": true
   },
   "outputs": [],
   "source": [
    "# Training loop of the neural network  \n",
    "for step in range(10000):  \n",
    "    sess.run(fetches=[train_op], feed_dict={\n",
    "                                   training_inputs: training_inputs_data,  \n",
    "                                   training_outputs: training_outputs_data})  \n",
    "  "
   ]
  },
  {
   "cell_type": "code",
   "execution_count": 30,
   "metadata": {},
   "outputs": [
    {
     "name": "stdout",
     "output_type": "stream",
     "text": [
      "Expected Scores :  [[ 1.]\n",
      " [ 1.]]\n"
     ]
    }
   ],
   "source": [
    "# Class scores of some testing data  \n",
    "print(\"Expected Scores 1 : \", sess.run(fetches=predictions, feed_dict={training_inputs: [[248, 80, 68],                                                                   [0, 0, 255]]}))  \n",
    "\n",
    "print(\"Expected Scores 2: \", sess.run(fetches=predictions, feed_dict={training_inputs: [[255, 100, 50],                                                                   [0, 0, 255]]}))  \n",
    " "
   ]
  },
  {
   "cell_type": "code",
   "execution_count": 31,
   "metadata": {
    "collapsed": true
   },
   "outputs": [],
   "source": [
    "# Closing the TensorFlow Session to free resources  \n",
    "sess.close()"
   ]
  },
  {
   "cell_type": "code",
   "execution_count": null,
   "metadata": {
    "collapsed": true
   },
   "outputs": [],
   "source": []
  },
  {
   "cell_type": "code",
   "execution_count": null,
   "metadata": {
    "collapsed": true
   },
   "outputs": [],
   "source": []
  },
  {
   "cell_type": "code",
   "execution_count": null,
   "metadata": {
    "collapsed": true
   },
   "outputs": [],
   "source": []
  },
  {
   "cell_type": "code",
   "execution_count": null,
   "metadata": {
    "collapsed": true
   },
   "outputs": [],
   "source": []
  },
  {
   "cell_type": "code",
   "execution_count": null,
   "metadata": {
    "collapsed": true
   },
   "outputs": [],
   "source": []
  },
  {
   "cell_type": "code",
   "execution_count": 3,
   "metadata": {
    "collapsed": true
   },
   "outputs": [],
   "source": [
    "# Creating a NumPy array holding the input data  \n",
    "numpy_inputs = [[5, 2, 13],  \n",
    "                [7, 9, 0]] "
   ]
  },
  {
   "cell_type": "code",
   "execution_count": null,
   "metadata": {
    "collapsed": true
   },
   "outputs": [],
   "source": []
  },
  {
   "cell_type": "code",
   "execution_count": 6,
   "metadata": {},
   "outputs": [],
   "source": [
    "# Converting the NumPy array to a TensorFlow Tensor \n",
    "# convert_to_tensor() doc: https://www.tensorflow.org/api_docs/python/tf/convert_to_tensor  \n",
    "training_inputs = tf.convert_to_tensor(value=numpy_inputs, dtype=tf.int8)  "
   ]
  },
  {
   "cell_type": "code",
   "execution_count": 7,
   "metadata": {
    "collapsed": true
   },
   "outputs": [],
   "source": [
    "# Creating a TenforFlow Session\n",
    "sess = tf.Session()"
   ]
  },
  {
   "cell_type": "code",
   "execution_count": 8,
   "metadata": {},
   "outputs": [
    {
     "name": "stdout",
     "output_type": "stream",
     "text": [
      "Output is :  [[ 5  2 13]\n",
      " [ 7  9  0]]\n"
     ]
    }
   ],
   "source": [
    "# Running the sessoin for evaluating the previously created Tensor\n",
    "print(\"Output is : \", sess.run(fetches=training_inputs))"
   ]
  },
  {
   "cell_type": "code",
   "execution_count": 9,
   "metadata": {
    "collapsed": true
   },
   "outputs": [],
   "source": [
    "# Closing the TenforFlow Session\n",
    "sess.close()"
   ]
  },
  {
   "cell_type": "code",
   "execution_count": null,
   "metadata": {
    "collapsed": true
   },
   "outputs": [],
   "source": []
  },
  {
   "cell_type": "code",
   "execution_count": null,
   "metadata": {
    "collapsed": true
   },
   "outputs": [],
   "source": []
  },
  {
   "cell_type": "code",
   "execution_count": 37,
   "metadata": {},
   "outputs": [
    {
     "name": "stdout",
     "output_type": "stream",
     "text": [
      "Output is :  [[ 5  2 13]\n",
      " [ 7  9  0]]\n",
      "Output is :  [[1 2 3]\n",
      " [4 5 6]]\n",
      "Output is :  [[12 13 14]\n",
      " [15 16 17]]\n"
     ]
    }
   ],
   "source": [
    "# Create a placeholder with data type int8 and shape 2x3.  \n",
    "training_inputs = tf.placeholder(dtype=tf.int8, shape=(2, 3))  \n",
    "\n",
    "# Creating a TenforFlow Session\n",
    "sess = tf.Session()\n",
    "\n",
    "# Running the session for evaluating assigning a value to the placeholder  \n",
    "print(\"Output is : \", sess.run(fetches=training_inputs,  \n",
    "                               feed_dict={training_inputs: [[5, 2, 13],  \n",
    "                                                   [7, 9, 0]]}))\n",
    "\n",
    "print(\"Output is : \", sess.run(fetches=training_inputs,  \n",
    "                               feed_dict={training_inputs: [[1, 2, 3],  \n",
    "                                                            [4, 5, 6]]}))  \n",
    "print(\"Output is : \", sess.run(fetches=training_inputs,  \n",
    "                               feed_dict={training_inputs: [[12, 13, 14],  \n",
    "                                                            [15, 16, 17]]}))"
   ]
  },
  {
   "cell_type": "code",
   "execution_count": 36,
   "metadata": {
    "collapsed": true
   },
   "outputs": [],
   "source": []
  },
  {
   "cell_type": "code",
   "execution_count": null,
   "metadata": {
    "collapsed": true
   },
   "outputs": [],
   "source": []
  }
 ],
 "metadata": {
  "kernelspec": {
   "display_name": "Python 3",
   "language": "python",
   "name": "python3"
  },
  "language_info": {
   "codemirror_mode": {
    "name": "ipython",
    "version": 3
   },
   "file_extension": ".py",
   "mimetype": "text/x-python",
   "name": "python",
   "nbconvert_exporter": "python",
   "pygments_lexer": "ipython3",
   "version": "3.6.1"
  }
 },
 "nbformat": 4,
 "nbformat_minor": 2
}
